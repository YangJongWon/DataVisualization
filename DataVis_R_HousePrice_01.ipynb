{
 "cells": [
  {
   "cell_type": "code",
   "execution_count": 14,
   "metadata": {},
   "outputs": [],
   "source": [
    "test <- read.csv(\"D:/dataset/House_Prices/test.csv\")\n",
    "train <- read.csv(\"D:/dataset/House_Prices/train.csv\")"
   ]
  },
  {
   "cell_type": "code",
   "execution_count": 15,
   "metadata": {},
   "outputs": [
    {
     "data": {
      "text/html": [
       "<ol class=list-inline>\n",
       "\t<li>1459</li>\n",
       "\t<li>80</li>\n",
       "</ol>\n"
      ],
      "text/latex": [
       "\\begin{enumerate*}\n",
       "\\item 1459\n",
       "\\item 80\n",
       "\\end{enumerate*}\n"
      ],
      "text/markdown": [
       "1. 1459\n",
       "2. 80\n",
       "\n",
       "\n"
      ],
      "text/plain": [
       "[1] 1459   80"
      ]
     },
     "metadata": {},
     "output_type": "display_data"
    },
    {
     "data": {
      "text/html": [
       "<ol class=list-inline>\n",
       "\t<li>1460</li>\n",
       "\t<li>81</li>\n",
       "</ol>\n"
      ],
      "text/latex": [
       "\\begin{enumerate*}\n",
       "\\item 1460\n",
       "\\item 81\n",
       "\\end{enumerate*}\n"
      ],
      "text/markdown": [
       "1. 1460\n",
       "2. 81\n",
       "\n",
       "\n"
      ],
      "text/plain": [
       "[1] 1460   81"
      ]
     },
     "metadata": {},
     "output_type": "display_data"
    },
    {
     "data": {
      "text/html": [
       "<table>\n",
       "<thead><tr><th scope=col>Id</th><th scope=col>MSSubClass</th><th scope=col>MSZoning</th><th scope=col>LotFrontage</th><th scope=col>LotArea</th><th scope=col>Street</th><th scope=col>Alley</th><th scope=col>LotShape</th><th scope=col>LandContour</th><th scope=col>Utilities</th><th scope=col>...</th><th scope=col>ScreenPorch</th><th scope=col>PoolArea</th><th scope=col>PoolQC</th><th scope=col>Fence</th><th scope=col>MiscFeature</th><th scope=col>MiscVal</th><th scope=col>MoSold</th><th scope=col>YrSold</th><th scope=col>SaleType</th><th scope=col>SaleCondition</th></tr></thead>\n",
       "<tbody>\n",
       "\t<tr><td>1461  </td><td>20    </td><td>RH    </td><td>80    </td><td>11622 </td><td>Pave  </td><td>NA    </td><td>Reg   </td><td>Lvl   </td><td>AllPub</td><td>...   </td><td>120   </td><td>0     </td><td>NA    </td><td>MnPrv </td><td>NA    </td><td>    0 </td><td>6     </td><td>2010  </td><td>WD    </td><td>Normal</td></tr>\n",
       "\t<tr><td>1462  </td><td>20    </td><td>RL    </td><td>81    </td><td>14267 </td><td>Pave  </td><td>NA    </td><td>IR1   </td><td>Lvl   </td><td>AllPub</td><td>...   </td><td>  0   </td><td>0     </td><td>NA    </td><td>NA    </td><td>Gar2  </td><td>12500 </td><td>6     </td><td>2010  </td><td>WD    </td><td>Normal</td></tr>\n",
       "\t<tr><td>1463  </td><td>60    </td><td>RL    </td><td>74    </td><td>13830 </td><td>Pave  </td><td>NA    </td><td>IR1   </td><td>Lvl   </td><td>AllPub</td><td>...   </td><td>  0   </td><td>0     </td><td>NA    </td><td>MnPrv </td><td>NA    </td><td>    0 </td><td>3     </td><td>2010  </td><td>WD    </td><td>Normal</td></tr>\n",
       "</tbody>\n",
       "</table>\n"
      ],
      "text/latex": [
       "\\begin{tabular}{r|llllllllllllllllllllllllllllllllllllllllllllllllllllllllllllllllllllllllllllllll}\n",
       " Id & MSSubClass & MSZoning & LotFrontage & LotArea & Street & Alley & LotShape & LandContour & Utilities & ... & ScreenPorch & PoolArea & PoolQC & Fence & MiscFeature & MiscVal & MoSold & YrSold & SaleType & SaleCondition\\\\\n",
       "\\hline\n",
       "\t 1461   & 20     & RH     & 80     & 11622  & Pave   & NA     & Reg    & Lvl    & AllPub & ...    & 120    & 0      & NA     & MnPrv  & NA     &     0  & 6      & 2010   & WD     & Normal\\\\\n",
       "\t 1462   & 20     & RL     & 81     & 14267  & Pave   & NA     & IR1    & Lvl    & AllPub & ...    &   0    & 0      & NA     & NA     & Gar2   & 12500  & 6      & 2010   & WD     & Normal\\\\\n",
       "\t 1463   & 60     & RL     & 74     & 13830  & Pave   & NA     & IR1    & Lvl    & AllPub & ...    &   0    & 0      & NA     & MnPrv  & NA     &     0  & 3      & 2010   & WD     & Normal\\\\\n",
       "\\end{tabular}\n"
      ],
      "text/markdown": [
       "\n",
       "Id | MSSubClass | MSZoning | LotFrontage | LotArea | Street | Alley | LotShape | LandContour | Utilities | ... | ScreenPorch | PoolArea | PoolQC | Fence | MiscFeature | MiscVal | MoSold | YrSold | SaleType | SaleCondition | \n",
       "|---|---|---|\n",
       "| 1461   | 20     | RH     | 80     | 11622  | Pave   | NA     | Reg    | Lvl    | AllPub | ...    | 120    | 0      | NA     | MnPrv  | NA     |     0  | 6      | 2010   | WD     | Normal | \n",
       "| 1462   | 20     | RL     | 81     | 14267  | Pave   | NA     | IR1    | Lvl    | AllPub | ...    |   0    | 0      | NA     | NA     | Gar2   | 12500  | 6      | 2010   | WD     | Normal | \n",
       "| 1463   | 60     | RL     | 74     | 13830  | Pave   | NA     | IR1    | Lvl    | AllPub | ...    |   0    | 0      | NA     | MnPrv  | NA     |     0  | 3      | 2010   | WD     | Normal | \n",
       "\n",
       "\n"
      ],
      "text/plain": [
       "  Id   MSSubClass MSZoning LotFrontage LotArea Street Alley LotShape\n",
       "1 1461 20         RH       80          11622   Pave   NA    Reg     \n",
       "2 1462 20         RL       81          14267   Pave   NA    IR1     \n",
       "3 1463 60         RL       74          13830   Pave   NA    IR1     \n",
       "  LandContour Utilities ... ScreenPorch PoolArea PoolQC Fence MiscFeature\n",
       "1 Lvl         AllPub    ... 120         0        NA     MnPrv NA         \n",
       "2 Lvl         AllPub    ...   0         0        NA     NA    Gar2       \n",
       "3 Lvl         AllPub    ...   0         0        NA     MnPrv NA         \n",
       "  MiscVal MoSold YrSold SaleType SaleCondition\n",
       "1     0   6      2010   WD       Normal       \n",
       "2 12500   6      2010   WD       Normal       \n",
       "3     0   3      2010   WD       Normal       "
      ]
     },
     "metadata": {},
     "output_type": "display_data"
    },
    {
     "data": {
      "text/html": [
       "<table>\n",
       "<thead><tr><th scope=col>Id</th><th scope=col>MSSubClass</th><th scope=col>MSZoning</th><th scope=col>LotFrontage</th><th scope=col>LotArea</th><th scope=col>Street</th><th scope=col>Alley</th><th scope=col>LotShape</th><th scope=col>LandContour</th><th scope=col>Utilities</th><th scope=col>...</th><th scope=col>PoolArea</th><th scope=col>PoolQC</th><th scope=col>Fence</th><th scope=col>MiscFeature</th><th scope=col>MiscVal</th><th scope=col>MoSold</th><th scope=col>YrSold</th><th scope=col>SaleType</th><th scope=col>SaleCondition</th><th scope=col>SalePrice</th></tr></thead>\n",
       "<tbody>\n",
       "\t<tr><td>1     </td><td>60    </td><td>RL    </td><td>65    </td><td> 8450 </td><td>Pave  </td><td>NA    </td><td>Reg   </td><td>Lvl   </td><td>AllPub</td><td>...   </td><td>0     </td><td>NA    </td><td>NA    </td><td>NA    </td><td>0     </td><td>2     </td><td>2008  </td><td>WD    </td><td>Normal</td><td>208500</td></tr>\n",
       "\t<tr><td>2     </td><td>20    </td><td>RL    </td><td>80    </td><td> 9600 </td><td>Pave  </td><td>NA    </td><td>Reg   </td><td>Lvl   </td><td>AllPub</td><td>...   </td><td>0     </td><td>NA    </td><td>NA    </td><td>NA    </td><td>0     </td><td>5     </td><td>2007  </td><td>WD    </td><td>Normal</td><td>181500</td></tr>\n",
       "\t<tr><td>3     </td><td>60    </td><td>RL    </td><td>68    </td><td>11250 </td><td>Pave  </td><td>NA    </td><td>IR1   </td><td>Lvl   </td><td>AllPub</td><td>...   </td><td>0     </td><td>NA    </td><td>NA    </td><td>NA    </td><td>0     </td><td>9     </td><td>2008  </td><td>WD    </td><td>Normal</td><td>223500</td></tr>\n",
       "</tbody>\n",
       "</table>\n"
      ],
      "text/latex": [
       "\\begin{tabular}{r|lllllllllllllllllllllllllllllllllllllllllllllllllllllllllllllllllllllllllllllllll}\n",
       " Id & MSSubClass & MSZoning & LotFrontage & LotArea & Street & Alley & LotShape & LandContour & Utilities & ... & PoolArea & PoolQC & Fence & MiscFeature & MiscVal & MoSold & YrSold & SaleType & SaleCondition & SalePrice\\\\\n",
       "\\hline\n",
       "\t 1      & 60     & RL     & 65     &  8450  & Pave   & NA     & Reg    & Lvl    & AllPub & ...    & 0      & NA     & NA     & NA     & 0      & 2      & 2008   & WD     & Normal & 208500\\\\\n",
       "\t 2      & 20     & RL     & 80     &  9600  & Pave   & NA     & Reg    & Lvl    & AllPub & ...    & 0      & NA     & NA     & NA     & 0      & 5      & 2007   & WD     & Normal & 181500\\\\\n",
       "\t 3      & 60     & RL     & 68     & 11250  & Pave   & NA     & IR1    & Lvl    & AllPub & ...    & 0      & NA     & NA     & NA     & 0      & 9      & 2008   & WD     & Normal & 223500\\\\\n",
       "\\end{tabular}\n"
      ],
      "text/markdown": [
       "\n",
       "Id | MSSubClass | MSZoning | LotFrontage | LotArea | Street | Alley | LotShape | LandContour | Utilities | ... | PoolArea | PoolQC | Fence | MiscFeature | MiscVal | MoSold | YrSold | SaleType | SaleCondition | SalePrice | \n",
       "|---|---|---|\n",
       "| 1      | 60     | RL     | 65     |  8450  | Pave   | NA     | Reg    | Lvl    | AllPub | ...    | 0      | NA     | NA     | NA     | 0      | 2      | 2008   | WD     | Normal | 208500 | \n",
       "| 2      | 20     | RL     | 80     |  9600  | Pave   | NA     | Reg    | Lvl    | AllPub | ...    | 0      | NA     | NA     | NA     | 0      | 5      | 2007   | WD     | Normal | 181500 | \n",
       "| 3      | 60     | RL     | 68     | 11250  | Pave   | NA     | IR1    | Lvl    | AllPub | ...    | 0      | NA     | NA     | NA     | 0      | 9      | 2008   | WD     | Normal | 223500 | \n",
       "\n",
       "\n"
      ],
      "text/plain": [
       "  Id MSSubClass MSZoning LotFrontage LotArea Street Alley LotShape LandContour\n",
       "1 1  60         RL       65           8450   Pave   NA    Reg      Lvl        \n",
       "2 2  20         RL       80           9600   Pave   NA    Reg      Lvl        \n",
       "3 3  60         RL       68          11250   Pave   NA    IR1      Lvl        \n",
       "  Utilities ... PoolArea PoolQC Fence MiscFeature MiscVal MoSold YrSold\n",
       "1 AllPub    ... 0        NA     NA    NA          0       2      2008  \n",
       "2 AllPub    ... 0        NA     NA    NA          0       5      2007  \n",
       "3 AllPub    ... 0        NA     NA    NA          0       9      2008  \n",
       "  SaleType SaleCondition SalePrice\n",
       "1 WD       Normal        208500   \n",
       "2 WD       Normal        181500   \n",
       "3 WD       Normal        223500   "
      ]
     },
     "metadata": {},
     "output_type": "display_data"
    }
   ],
   "source": [
    "dim(test)\n",
    "dim(train)\n",
    "head(test,3)\n",
    "head(train,3)"
   ]
  },
  {
   "cell_type": "code",
   "execution_count": 17,
   "metadata": {},
   "outputs": [
    {
     "data": {
      "text/html": [
       "<ol class=list-inline>\n",
       "\t<li>1459</li>\n",
       "\t<li>80</li>\n",
       "</ol>\n"
      ],
      "text/latex": [
       "\\begin{enumerate*}\n",
       "\\item 1459\n",
       "\\item 80\n",
       "\\end{enumerate*}\n"
      ],
      "text/markdown": [
       "1. 1459\n",
       "2. 80\n",
       "\n",
       "\n"
      ],
      "text/plain": [
       "[1] 1459   80"
      ]
     },
     "metadata": {},
     "output_type": "display_data"
    },
    {
     "data": {
      "text/html": [
       "<ol class=list-inline>\n",
       "\t<li>1460</li>\n",
       "\t<li>81</li>\n",
       "</ol>\n"
      ],
      "text/latex": [
       "\\begin{enumerate*}\n",
       "\\item 1460\n",
       "\\item 81\n",
       "\\end{enumerate*}\n"
      ],
      "text/markdown": [
       "1. 1460\n",
       "2. 81\n",
       "\n",
       "\n"
      ],
      "text/plain": [
       "[1] 1460   81"
      ]
     },
     "metadata": {},
     "output_type": "display_data"
    }
   ],
   "source": [
    "# test는 SalePrice가 없다.\n",
    "dim(test)\n",
    "dim(train)"
   ]
  },
  {
   "cell_type": "code",
   "execution_count": 21,
   "metadata": {},
   "outputs": [
    {
     "data": {
      "text/html": [
       "<ol class=list-inline>\n",
       "\t<li>1459</li>\n",
       "\t<li>80</li>\n",
       "</ol>\n"
      ],
      "text/latex": [
       "\\begin{enumerate*}\n",
       "\\item 1459\n",
       "\\item 80\n",
       "\\end{enumerate*}\n"
      ],
      "text/markdown": [
       "1. 1459\n",
       "2. 80\n",
       "\n",
       "\n"
      ],
      "text/plain": [
       "[1] 1459   80"
      ]
     },
     "metadata": {},
     "output_type": "display_data"
    },
    {
     "data": {
      "text/html": [
       "<ol class=list-inline>\n",
       "\t<li>1460</li>\n",
       "\t<li>80</li>\n",
       "</ol>\n"
      ],
      "text/latex": [
       "\\begin{enumerate*}\n",
       "\\item 1460\n",
       "\\item 80\n",
       "\\end{enumerate*}\n"
      ],
      "text/markdown": [
       "1. 1460\n",
       "2. 80\n",
       "\n",
       "\n"
      ],
      "text/plain": [
       "[1] 1460   80"
      ]
     },
     "metadata": {},
     "output_type": "display_data"
    },
    {
     "data": {
      "text/html": [
       "<ol class=list-inline>\n",
       "\t<li>2919</li>\n",
       "\t<li>80</li>\n",
       "</ol>\n"
      ],
      "text/latex": [
       "\\begin{enumerate*}\n",
       "\\item 2919\n",
       "\\item 80\n",
       "\\end{enumerate*}\n"
      ],
      "text/markdown": [
       "1. 2919\n",
       "2. 80\n",
       "\n",
       "\n"
      ],
      "text/plain": [
       "[1] 2919   80"
      ]
     },
     "metadata": {},
     "output_type": "display_data"
    },
    {
     "data": {
      "text/html": [
       "<ol class=list-inline>\n",
       "\t<li>'MSSubClass'</li>\n",
       "\t<li>'MSZoning'</li>\n",
       "\t<li>'LotFrontage'</li>\n",
       "\t<li>'LotArea'</li>\n",
       "\t<li>'Street'</li>\n",
       "\t<li>'Alley'</li>\n",
       "\t<li>'LotShape'</li>\n",
       "\t<li>'LandContour'</li>\n",
       "\t<li>'Utilities'</li>\n",
       "\t<li>'LotConfig'</li>\n",
       "\t<li>'LandSlope'</li>\n",
       "\t<li>'Neighborhood'</li>\n",
       "\t<li>'Condition1'</li>\n",
       "\t<li>'Condition2'</li>\n",
       "\t<li>'BldgType'</li>\n",
       "\t<li>'HouseStyle'</li>\n",
       "\t<li>'OverallQual'</li>\n",
       "\t<li>'OverallCond'</li>\n",
       "\t<li>'YearBuilt'</li>\n",
       "\t<li>'YearRemodAdd'</li>\n",
       "\t<li>'RoofStyle'</li>\n",
       "\t<li>'RoofMatl'</li>\n",
       "\t<li>'Exterior1st'</li>\n",
       "\t<li>'Exterior2nd'</li>\n",
       "\t<li>'MasVnrType'</li>\n",
       "\t<li>'MasVnrArea'</li>\n",
       "\t<li>'ExterQual'</li>\n",
       "\t<li>'ExterCond'</li>\n",
       "\t<li>'Foundation'</li>\n",
       "\t<li>'BsmtQual'</li>\n",
       "\t<li>'BsmtCond'</li>\n",
       "\t<li>'BsmtExposure'</li>\n",
       "\t<li>'BsmtFinType1'</li>\n",
       "\t<li>'BsmtFinSF1'</li>\n",
       "\t<li>'BsmtFinType2'</li>\n",
       "\t<li>'BsmtFinSF2'</li>\n",
       "\t<li>'BsmtUnfSF'</li>\n",
       "\t<li>'TotalBsmtSF'</li>\n",
       "\t<li>'Heating'</li>\n",
       "\t<li>'HeatingQC'</li>\n",
       "\t<li>'CentralAir'</li>\n",
       "\t<li>'Electrical'</li>\n",
       "\t<li>'X1stFlrSF'</li>\n",
       "\t<li>'X2ndFlrSF'</li>\n",
       "\t<li>'LowQualFinSF'</li>\n",
       "\t<li>'GrLivArea'</li>\n",
       "\t<li>'BsmtFullBath'</li>\n",
       "\t<li>'BsmtHalfBath'</li>\n",
       "\t<li>'FullBath'</li>\n",
       "\t<li>'HalfBath'</li>\n",
       "\t<li>'BedroomAbvGr'</li>\n",
       "\t<li>'KitchenAbvGr'</li>\n",
       "\t<li>'KitchenQual'</li>\n",
       "\t<li>'TotRmsAbvGrd'</li>\n",
       "\t<li>'Functional'</li>\n",
       "\t<li>'Fireplaces'</li>\n",
       "\t<li>'FireplaceQu'</li>\n",
       "\t<li>'GarageType'</li>\n",
       "\t<li>'GarageYrBlt'</li>\n",
       "\t<li>'GarageFinish'</li>\n",
       "\t<li>'GarageCars'</li>\n",
       "\t<li>'GarageArea'</li>\n",
       "\t<li>'GarageQual'</li>\n",
       "\t<li>'GarageCond'</li>\n",
       "\t<li>'PavedDrive'</li>\n",
       "\t<li>'WoodDeckSF'</li>\n",
       "\t<li>'OpenPorchSF'</li>\n",
       "\t<li>'EnclosedPorch'</li>\n",
       "\t<li>'X3SsnPorch'</li>\n",
       "\t<li>'ScreenPorch'</li>\n",
       "\t<li>'PoolArea'</li>\n",
       "\t<li>'PoolQC'</li>\n",
       "\t<li>'Fence'</li>\n",
       "\t<li>'MiscFeature'</li>\n",
       "\t<li>'MiscVal'</li>\n",
       "\t<li>'MoSold'</li>\n",
       "\t<li>'YrSold'</li>\n",
       "\t<li>'SaleType'</li>\n",
       "\t<li>'SaleCondition'</li>\n",
       "\t<li>'SalePrice'</li>\n",
       "</ol>\n"
      ],
      "text/latex": [
       "\\begin{enumerate*}\n",
       "\\item 'MSSubClass'\n",
       "\\item 'MSZoning'\n",
       "\\item 'LotFrontage'\n",
       "\\item 'LotArea'\n",
       "\\item 'Street'\n",
       "\\item 'Alley'\n",
       "\\item 'LotShape'\n",
       "\\item 'LandContour'\n",
       "\\item 'Utilities'\n",
       "\\item 'LotConfig'\n",
       "\\item 'LandSlope'\n",
       "\\item 'Neighborhood'\n",
       "\\item 'Condition1'\n",
       "\\item 'Condition2'\n",
       "\\item 'BldgType'\n",
       "\\item 'HouseStyle'\n",
       "\\item 'OverallQual'\n",
       "\\item 'OverallCond'\n",
       "\\item 'YearBuilt'\n",
       "\\item 'YearRemodAdd'\n",
       "\\item 'RoofStyle'\n",
       "\\item 'RoofMatl'\n",
       "\\item 'Exterior1st'\n",
       "\\item 'Exterior2nd'\n",
       "\\item 'MasVnrType'\n",
       "\\item 'MasVnrArea'\n",
       "\\item 'ExterQual'\n",
       "\\item 'ExterCond'\n",
       "\\item 'Foundation'\n",
       "\\item 'BsmtQual'\n",
       "\\item 'BsmtCond'\n",
       "\\item 'BsmtExposure'\n",
       "\\item 'BsmtFinType1'\n",
       "\\item 'BsmtFinSF1'\n",
       "\\item 'BsmtFinType2'\n",
       "\\item 'BsmtFinSF2'\n",
       "\\item 'BsmtUnfSF'\n",
       "\\item 'TotalBsmtSF'\n",
       "\\item 'Heating'\n",
       "\\item 'HeatingQC'\n",
       "\\item 'CentralAir'\n",
       "\\item 'Electrical'\n",
       "\\item 'X1stFlrSF'\n",
       "\\item 'X2ndFlrSF'\n",
       "\\item 'LowQualFinSF'\n",
       "\\item 'GrLivArea'\n",
       "\\item 'BsmtFullBath'\n",
       "\\item 'BsmtHalfBath'\n",
       "\\item 'FullBath'\n",
       "\\item 'HalfBath'\n",
       "\\item 'BedroomAbvGr'\n",
       "\\item 'KitchenAbvGr'\n",
       "\\item 'KitchenQual'\n",
       "\\item 'TotRmsAbvGrd'\n",
       "\\item 'Functional'\n",
       "\\item 'Fireplaces'\n",
       "\\item 'FireplaceQu'\n",
       "\\item 'GarageType'\n",
       "\\item 'GarageYrBlt'\n",
       "\\item 'GarageFinish'\n",
       "\\item 'GarageCars'\n",
       "\\item 'GarageArea'\n",
       "\\item 'GarageQual'\n",
       "\\item 'GarageCond'\n",
       "\\item 'PavedDrive'\n",
       "\\item 'WoodDeckSF'\n",
       "\\item 'OpenPorchSF'\n",
       "\\item 'EnclosedPorch'\n",
       "\\item 'X3SsnPorch'\n",
       "\\item 'ScreenPorch'\n",
       "\\item 'PoolArea'\n",
       "\\item 'PoolQC'\n",
       "\\item 'Fence'\n",
       "\\item 'MiscFeature'\n",
       "\\item 'MiscVal'\n",
       "\\item 'MoSold'\n",
       "\\item 'YrSold'\n",
       "\\item 'SaleType'\n",
       "\\item 'SaleCondition'\n",
       "\\item 'SalePrice'\n",
       "\\end{enumerate*}\n"
      ],
      "text/markdown": [
       "1. 'MSSubClass'\n",
       "2. 'MSZoning'\n",
       "3. 'LotFrontage'\n",
       "4. 'LotArea'\n",
       "5. 'Street'\n",
       "6. 'Alley'\n",
       "7. 'LotShape'\n",
       "8. 'LandContour'\n",
       "9. 'Utilities'\n",
       "10. 'LotConfig'\n",
       "11. 'LandSlope'\n",
       "12. 'Neighborhood'\n",
       "13. 'Condition1'\n",
       "14. 'Condition2'\n",
       "15. 'BldgType'\n",
       "16. 'HouseStyle'\n",
       "17. 'OverallQual'\n",
       "18. 'OverallCond'\n",
       "19. 'YearBuilt'\n",
       "20. 'YearRemodAdd'\n",
       "21. 'RoofStyle'\n",
       "22. 'RoofMatl'\n",
       "23. 'Exterior1st'\n",
       "24. 'Exterior2nd'\n",
       "25. 'MasVnrType'\n",
       "26. 'MasVnrArea'\n",
       "27. 'ExterQual'\n",
       "28. 'ExterCond'\n",
       "29. 'Foundation'\n",
       "30. 'BsmtQual'\n",
       "31. 'BsmtCond'\n",
       "32. 'BsmtExposure'\n",
       "33. 'BsmtFinType1'\n",
       "34. 'BsmtFinSF1'\n",
       "35. 'BsmtFinType2'\n",
       "36. 'BsmtFinSF2'\n",
       "37. 'BsmtUnfSF'\n",
       "38. 'TotalBsmtSF'\n",
       "39. 'Heating'\n",
       "40. 'HeatingQC'\n",
       "41. 'CentralAir'\n",
       "42. 'Electrical'\n",
       "43. 'X1stFlrSF'\n",
       "44. 'X2ndFlrSF'\n",
       "45. 'LowQualFinSF'\n",
       "46. 'GrLivArea'\n",
       "47. 'BsmtFullBath'\n",
       "48. 'BsmtHalfBath'\n",
       "49. 'FullBath'\n",
       "50. 'HalfBath'\n",
       "51. 'BedroomAbvGr'\n",
       "52. 'KitchenAbvGr'\n",
       "53. 'KitchenQual'\n",
       "54. 'TotRmsAbvGrd'\n",
       "55. 'Functional'\n",
       "56. 'Fireplaces'\n",
       "57. 'FireplaceQu'\n",
       "58. 'GarageType'\n",
       "59. 'GarageYrBlt'\n",
       "60. 'GarageFinish'\n",
       "61. 'GarageCars'\n",
       "62. 'GarageArea'\n",
       "63. 'GarageQual'\n",
       "64. 'GarageCond'\n",
       "65. 'PavedDrive'\n",
       "66. 'WoodDeckSF'\n",
       "67. 'OpenPorchSF'\n",
       "68. 'EnclosedPorch'\n",
       "69. 'X3SsnPorch'\n",
       "70. 'ScreenPorch'\n",
       "71. 'PoolArea'\n",
       "72. 'PoolQC'\n",
       "73. 'Fence'\n",
       "74. 'MiscFeature'\n",
       "75. 'MiscVal'\n",
       "76. 'MoSold'\n",
       "77. 'YrSold'\n",
       "78. 'SaleType'\n",
       "79. 'SaleCondition'\n",
       "80. 'SalePrice'\n",
       "\n",
       "\n"
      ],
      "text/plain": [
       " [1] \"MSSubClass\"    \"MSZoning\"      \"LotFrontage\"   \"LotArea\"      \n",
       " [5] \"Street\"        \"Alley\"         \"LotShape\"      \"LandContour\"  \n",
       " [9] \"Utilities\"     \"LotConfig\"     \"LandSlope\"     \"Neighborhood\" \n",
       "[13] \"Condition1\"    \"Condition2\"    \"BldgType\"      \"HouseStyle\"   \n",
       "[17] \"OverallQual\"   \"OverallCond\"   \"YearBuilt\"     \"YearRemodAdd\" \n",
       "[21] \"RoofStyle\"     \"RoofMatl\"      \"Exterior1st\"   \"Exterior2nd\"  \n",
       "[25] \"MasVnrType\"    \"MasVnrArea\"    \"ExterQual\"     \"ExterCond\"    \n",
       "[29] \"Foundation\"    \"BsmtQual\"      \"BsmtCond\"      \"BsmtExposure\" \n",
       "[33] \"BsmtFinType1\"  \"BsmtFinSF1\"    \"BsmtFinType2\"  \"BsmtFinSF2\"   \n",
       "[37] \"BsmtUnfSF\"     \"TotalBsmtSF\"   \"Heating\"       \"HeatingQC\"    \n",
       "[41] \"CentralAir\"    \"Electrical\"    \"X1stFlrSF\"     \"X2ndFlrSF\"    \n",
       "[45] \"LowQualFinSF\"  \"GrLivArea\"     \"BsmtFullBath\"  \"BsmtHalfBath\" \n",
       "[49] \"FullBath\"      \"HalfBath\"      \"BedroomAbvGr\"  \"KitchenAbvGr\" \n",
       "[53] \"KitchenQual\"   \"TotRmsAbvGrd\"  \"Functional\"    \"Fireplaces\"   \n",
       "[57] \"FireplaceQu\"   \"GarageType\"    \"GarageYrBlt\"   \"GarageFinish\" \n",
       "[61] \"GarageCars\"    \"GarageArea\"    \"GarageQual\"    \"GarageCond\"   \n",
       "[65] \"PavedDrive\"    \"WoodDeckSF\"    \"OpenPorchSF\"   \"EnclosedPorch\"\n",
       "[69] \"X3SsnPorch\"    \"ScreenPorch\"   \"PoolArea\"      \"PoolQC\"       \n",
       "[73] \"Fence\"         \"MiscFeature\"   \"MiscVal\"       \"MoSold\"       \n",
       "[77] \"YrSold\"        \"SaleType\"      \"SaleCondition\" \"SalePrice\"    "
      ]
     },
     "metadata": {},
     "output_type": "display_data"
    }
   ],
   "source": [
    "test_labels <- test$Id\n",
    "test$Id <- NULL             # 한열이 사라짐.\n",
    "train$Id <- NULL            # 한열이 사라짐.\n",
    "dim(test)\n",
    "dim(train)\n",
    "# train과 test의 열을 맞추고 all로 합치기\n",
    "test$SalePrice <- NA\n",
    "all <- rbind(train, test)\n",
    "dim(all)\n",
    "names(all)"
   ]
  },
  {
   "cell_type": "markdown",
   "metadata": {},
   "source": [
    "### categorical\n",
    "<pre>\n",
    "SalePrice - the property's sale price in dollars.(부동산의 가격-달러)\n",
    "SSubClass: The building class (건물 클래스)\n",
    "MSZoning: The general zoning classification (일반구역분류)\n",
    "LotFrontage: Linear feet of street connected to property(?)\n",
    "..\n",
    "Street: Type of road access(도로의 접근 유형)\n",
    "..\n",
    "LandContour: Flatness of the property(부동산의 평평함)\n",
    "... \n",
    "BldgType: Type of dwelling (거주 유형)\n",
    "  1Fam  : 단독주택\n",
    "  2fmCon : 2세대 전환, 원래 한가족\n",
    "  Duplex : 듀플렉스\n",
    "  Twnhs  :  타운 하우스 내부 단위\n",
    "  TwnhsE  : 타운 하우스 엔드 Unit\n",
    "</pre>"
   ]
  },
  {
   "cell_type": "code",
   "execution_count": 46,
   "metadata": {},
   "outputs": [
    {
     "data": {
      "text/plain": [
       "\n",
       " Bnk  HLS  Low  Lvl \n",
       " 117  120   60 2622 "
      ]
     },
     "metadata": {},
     "output_type": "display_data"
    },
    {
     "data": {
      "text/plain": [
       "\n",
       "  1Fam 2fmCon Duplex  Twnhs TwnhsE \n",
       "  2425     62    109     96    227 "
      ]
     },
     "metadata": {},
     "output_type": "display_data"
    }
   ],
   "source": [
    "#table(all$MSSubClass)\n",
    "#table(all$MSZoning)\n",
    "#table(all$Street)\n",
    "table(all$LandContour)  # Bnk  HLS  Low  Lvl\n",
    "table(all$BldgType)"
   ]
  },
  {
   "cell_type": "code",
   "execution_count": null,
   "metadata": {},
   "outputs": [],
   "source": []
  },
  {
   "cell_type": "markdown",
   "metadata": {},
   "source": [
    "## 01. Distribution - Histogram"
   ]
  },
  {
   "cell_type": "markdown",
   "metadata": {},
   "source": [
    "### SalePrice가 NA가 아닌 데이터 행 중에 SalePrice를 히스토그램 표시"
   ]
  },
  {
   "cell_type": "code",
   "execution_count": 47,
   "metadata": {},
   "outputs": [],
   "source": [
    "library(ggplot2)"
   ]
  },
  {
   "cell_type": "code",
   "execution_count": 48,
   "metadata": {},
   "outputs": [
    {
     "data": {},
     "metadata": {},
     "output_type": "display_data"
    },
    {
     "data": {
      "image/png": "[encoded data removed]",
      "text/plain": [
       "plot without title"
      ]
     },
     "metadata": {},
     "output_type": "display_data"
    }
   ],
   "source": [
    "ggplot(data=all[!is.na(all$SalePrice),], aes(x=SalePrice)) +\n",
    "        geom_histogram(fill=\"blue\", binwidth = 10000) +\n",
    "        scale_x_continuous(labels = function(x) format(x, big.mark = \",\",\n",
    "                                                       scientific = FALSE))\n",
    "# scale_x_continuous(breaks= seq(0, 800000, by=100000), labels = comma) # old"
   ]
  },
  {
   "cell_type": "markdown",
   "metadata": {},
   "source": [
    "## 02. Distribution - Violinplots\n",
    "<pre>\n",
    "A. Violinplot는 하나 또는 여러 그룹에 대한 숫자 변수의 분포를 시각화 가능하다.\n",
    "B. 박스 플롯과 매우 비슷하나 <b>밀도를 더 깊이 이해</b>할 수 있다.\n",
    "C. 데이터 양이 많고 개별 관찰이 불가능할 때 적용(Seaborn이 적합하다.)\n",
    "</pre>"
   ]
  },
  {
   "cell_type": "code",
   "execution_count": 51,
   "metadata": {},
   "outputs": [
    {
     "data": {
      "text/plain": [
       "\n",
       "Grvl Pave \n",
       "  12 2907 "
      ]
     },
     "metadata": {},
     "output_type": "display_data"
    },
    {
     "name": "stderr",
     "output_type": "stream",
     "text": [
      "Warning message:\n",
      "\"Removed 1459 rows containing non-finite values (stat_ydensity).\""
     ]
    },
    {
     "data": {},
     "metadata": {},
     "output_type": "display_data"
    },
    {
     "name": "stderr",
     "output_type": "stream",
     "text": [
      "Warning message:\n",
      "\"Removed 1459 rows containing non-finite values (stat_ydensity).\""
     ]
    },
    {
     "data": {},
     "metadata": {},
     "output_type": "display_data"
    },
    {
     "data": {
      "image/png": "[encoded data removed]",
      "text/plain": [
       "plot without title"
      ]
     },
     "metadata": {},
     "output_type": "display_data"
    },
    {
     "data": {
      "image/png": "[encoded data removed]",
      "text/plain": [
       "plot without title"
      ]
     },
     "metadata": {},
     "output_type": "display_data"
    }
   ],
   "source": [
    "table(all$Street)\n",
    "\n",
    "# Type of road access(도로의 접근 유형)에 따라 집값이 어떨지?\n",
    "# First type of color\n",
    "ggplot(all, aes(factor(Street), SalePrice)) + \n",
    "  geom_violin(aes(fill = Street)) + \n",
    "  scale_y_continuous(labels = function(x) format(x, big.mark = \",\",\n",
    "                                                       scientific = FALSE))\n",
    "                     \n",
    "# TFlatness of the property(부동산의 평평함)에 따라 집값이 어떨지?            \n",
    "ggplot(all, aes(factor(LandContour), SalePrice)) + \n",
    "  geom_violin(aes(fill = LandContour)) + \n",
    "  scale_y_continuous(labels = function(x) format(x, big.mark = \",\",\n",
    "                                                       scientific = FALSE))"
   ]
  },
  {
   "cell_type": "code",
   "execution_count": null,
   "metadata": {},
   "outputs": [],
   "source": [
    "## 03. Distribution - BoxPlot\n",
    "<pre>\n",
    "A. \n",
    "B. 박스 플롯과 매우 비슷하나 <b>밀도를 더 깊이 이해</b>할 수 있다.\n",
    "C. 데이터 양이 많고 개별 관찰이 불가능할 때 적용(Seaborn이 적합하다.)\n",
    "</pre>"
   ]
  },
  {
   "cell_type": "code",
   "execution_count": null,
   "metadata": {},
   "outputs": [],
   "source": []
  },
  {
   "cell_type": "markdown",
   "metadata": {},
   "source": [
    "### 확인 결과\n",
    "<pre>\n",
    "자갈(grvl)보다 pave가 약 10만달러 높아보인다.\n",
    "부동산의 평평도 - HLS 가장 넓게 많은 경사(언덕에 위치)\n",
    "   Bnk(평평하다)가 \n",
    "</pre>"
   ]
  },
  {
   "cell_type": "code",
   "execution_count": 35,
   "metadata": {},
   "outputs": [
    {
     "data": {
      "text/plain": [
       "   Min. 1st Qu.  Median    Mean 3rd Qu.    Max.    NA's \n",
       "  34900  129975  163000  180921  214000  755000    1459 "
      ]
     },
     "metadata": {},
     "output_type": "display_data"
    }
   ],
   "source": [
    "summary(all$SalePrice)"
   ]
  },
  {
   "cell_type": "markdown",
   "metadata": {},
   "source": [
    "## 02. Correlation - Correlogram\n",
    "<pre>\n",
    "상관 로그 또는 상관 행렬은 행렬의 숫자 변수 쌍 사이의 관계를 분석할 수 있게 한다.\n",
    "각 변수 쌍 간의 상관 관계는 산점도를 통해 시각화됩니다.\n",
    "</pre>"
   ]
  },
  {
   "cell_type": "code",
   "execution_count": 29,
   "metadata": {},
   "outputs": [
    {
     "name": "stdout",
     "output_type": "stream",
     "text": [
      "There are 37 numeric variables"
     ]
    }
   ],
   "source": [
    "## Corr 확인 결과\n",
    "numericVars <- which(sapply(all, is.numeric)) #index vector numeric variables\n",
    "numericVarNames <- names(numericVars) #saving names vector for use later on\n",
    "cat('There are', length(numericVars), 'numeric variables')"
   ]
  },
  {
   "cell_type": "code",
   "execution_count": 31,
   "metadata": {},
   "outputs": [],
   "source": [
    "library(corrplot)"
   ]
  },
  {
   "cell_type": "code",
   "execution_count": 32,
   "metadata": {},
   "outputs": [
    {
     "data": {
      "image/png": "[encoded data removed]",
      "text/plain": [
       "Plot with title \"\""
      ]
     },
     "metadata": {},
     "output_type": "display_data"
    }
   ],
   "source": [
    "all_numVar <- all[, numericVars]\n",
    "cor_numVar <- cor(all_numVar, use=\"pairwise.complete.obs\") #correlations of all numeric variables\n",
    "\n",
    "#sort on decreasing correlations with SalePrice\n",
    "cor_sorted <- as.matrix(sort(cor_numVar[,'SalePrice'], decreasing = TRUE))\n",
    " #select only high corelations\n",
    "CorHigh <- names(which(apply(cor_sorted, 1, function(x) abs(x)>0.5)))\n",
    "cor_numVar <- cor_numVar[CorHigh, CorHigh]\n",
    "\n",
    "corrplot.mixed(cor_numVar, tl.col=\"black\", tl.pos = \"lt\")"
   ]
  },
  {
   "cell_type": "code",
   "execution_count": null,
   "metadata": {},
   "outputs": [],
   "source": []
  }
 ],
 "metadata": {
  "kernelspec": {
   "display_name": "R",
   "language": "R",
   "name": "ir"
  },
  "language_info": {
   "codemirror_mode": "r",
   "file_extension": ".r",
   "mimetype": "text/x-r-source",
   "name": "R",
   "pygments_lexer": "r",
   "version": "3.4.3"
  }
 },
 "nbformat": 4,
 "nbformat_minor": 2
}
