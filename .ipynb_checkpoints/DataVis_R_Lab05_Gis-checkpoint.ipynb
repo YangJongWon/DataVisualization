{
 "cells": [
  {
   "cell_type": "code",
   "execution_count": null,
   "metadata": {},
   "outputs": [],
   "source": []
  },
  {
   "cell_type": "code",
   "execution_count": null,
   "metadata": {},
   "outputs": [],
   "source": []
  },
  {
   "cell_type": "code",
   "execution_count": null,
   "metadata": {},
   "outputs": [],
   "source": []
  },
  {
   "cell_type": "markdown",
   "metadata": {},
   "source": [
    "### 서울시 7개 자치 지역구 지도 정보 확인"
   ]
  },
  {
   "cell_type": "code",
   "execution_count": 10,
   "metadata": {},
   "outputs": [],
   "source": [
    "area <- c(\"강남구\", \"강동구\", \"강북구\", \"관악구\", \"구로구\", \"도봉구\", \"동대문구\")\n",
    "lon <- c(127.0475, 127.1238, 127.0255, 127.9515, 126.8875, 127.0478, 127.0396)\n",
    "lat <- c(37.51731, 37.53013, 37.63975, 37.47834, 37.49547, 37.66873, 37.57452)"
   ]
  },
  {
   "cell_type": "code",
   "execution_count": 11,
   "metadata": {},
   "outputs": [],
   "source": [
    "data <- data.frame(area=area, lon=lon, lat=lat)"
   ]
  },
  {
   "cell_type": "code",
   "execution_count": 12,
   "metadata": {},
   "outputs": [
    {
     "data": {
      "text/html": [
       "<table>\n",
       "<thead><tr><th scope=col>자치구명</th><th scope=col>연도</th><th scope=col>월</th><th scope=col>발생건수</th><th scope=col>사망자수</th><th scope=col>부상자수</th></tr></thead>\n",
       "<tbody>\n",
       "\t<tr><td>강남구</td><td>2015  </td><td>12    </td><td>374   </td><td>2     </td><td>520   </td></tr>\n",
       "\t<tr><td>강동구</td><td>2015  </td><td>12    </td><td>116   </td><td>2     </td><td>159   </td></tr>\n",
       "\t<tr><td>강북구</td><td>2015  </td><td>12    </td><td>116   </td><td>1     </td><td>152   </td></tr>\n",
       "\t<tr><td>강서구</td><td>2015  </td><td>12    </td><td>172   </td><td>0     </td><td>246   </td></tr>\n",
       "\t<tr><td>관악구</td><td>2015  </td><td>12    </td><td>138   </td><td>1     </td><td>184   </td></tr>\n",
       "\t<tr><td>광진구</td><td>2015  </td><td>12    </td><td> 84   </td><td>0     </td><td>115   </td></tr>\n",
       "</tbody>\n",
       "</table>\n"
      ],
      "text/latex": [
       "\\begin{tabular}{r|llllll}\n",
       " 자치구명 & 연도 & 월 & 발생건수 & 사망자수 & 부상자수\\\\\n",
       "\\hline\n",
       "\t 강남구 & 2015   & 12     & 374    & 2      & 520   \\\\\n",
       "\t 강동구 & 2015   & 12     & 116    & 2      & 159   \\\\\n",
       "\t 강북구 & 2015   & 12     & 116    & 1      & 152   \\\\\n",
       "\t 강서구 & 2015   & 12     & 172    & 0      & 246   \\\\\n",
       "\t 관악구 & 2015   & 12     & 138    & 1      & 184   \\\\\n",
       "\t 광진구 & 2015   & 12     &  84    & 0      & 115   \\\\\n",
       "\\end{tabular}\n"
      ],
      "text/markdown": [
       "\n",
       "자치구명 | 연도 | 월 | 발생건수 | 사망자수 | 부상자수 | \n",
       "|---|---|---|---|---|---|\n",
       "| 강남구 | 2015   | 12     | 374    | 2      | 520    | \n",
       "| 강동구 | 2015   | 12     | 116    | 2      | 159    | \n",
       "| 강북구 | 2015   | 12     | 116    | 1      | 152    | \n",
       "| 강서구 | 2015   | 12     | 172    | 0      | 246    | \n",
       "| 관악구 | 2015   | 12     | 138    | 1      | 184    | \n",
       "| 광진구 | 2015   | 12     |  84    | 0      | 115    | \n",
       "\n",
       "\n"
      ],
      "text/plain": [
       "  자치구명 연도 월 발생건수 사망자수 부상자수\n",
       "1 강남구   2015 12 374      2        520     \n",
       "2 강동구   2015 12 116      2        159     \n",
       "3 강북구   2015 12 116      1        152     \n",
       "4 강서구   2015 12 172      0        246     \n",
       "5 관악구   2015 12 138      1        184     \n",
       "6 광진구   2015 12  84      0        115     "
      ]
     },
     "metadata": {},
     "output_type": "display_data"
    }
   ],
   "source": [
    "traff2015 = read.csv(\"D:/dataset/2016_accident/2015seoul_acci.csv\")\n",
    "head(traff2015)"
   ]
  },
  {
   "cell_type": "code",
   "execution_count": 13,
   "metadata": {},
   "outputs": [
    {
     "data": {
      "text/html": [
       "<table>\n",
       "<thead><tr><th scope=col>자치구명</th><th scope=col>연도</th><th scope=col>월</th><th scope=col>발생건수</th><th scope=col>사망자수</th><th scope=col>부상자수</th><th scope=col>lon</th><th scope=col>lat</th></tr></thead>\n",
       "<tbody>\n",
       "\t<tr><td>강남구  </td><td>2015    </td><td>12      </td><td>374     </td><td>2       </td><td>520     </td><td>127.0475</td><td>37.51731</td></tr>\n",
       "\t<tr><td>강동구  </td><td>2015    </td><td>12      </td><td>116     </td><td>2       </td><td>159     </td><td>127.1238</td><td>37.53013</td></tr>\n",
       "\t<tr><td>강북구  </td><td>2015    </td><td>12      </td><td>116     </td><td>1       </td><td>152     </td><td>127.0255</td><td>37.63975</td></tr>\n",
       "\t<tr><td>관악구  </td><td>2015    </td><td>12      </td><td>138     </td><td>1       </td><td>184     </td><td>127.9515</td><td>37.47834</td></tr>\n",
       "\t<tr><td>구로구  </td><td>2015    </td><td>12      </td><td>108     </td><td>1       </td><td>137     </td><td>126.8875</td><td>37.49547</td></tr>\n",
       "\t<tr><td>도봉구  </td><td>2015    </td><td>12      </td><td> 87     </td><td>1       </td><td>123     </td><td>127.0478</td><td>37.66873</td></tr>\n",
       "\t<tr><td>동대문구</td><td>2015    </td><td>12      </td><td>111     </td><td>0       </td><td>265     </td><td>127.0396</td><td>37.57452</td></tr>\n",
       "</tbody>\n",
       "</table>\n"
      ],
      "text/latex": [
       "\\begin{tabular}{r|llllllll}\n",
       " 자치구명 & 연도 & 월 & 발생건수 & 사망자수 & 부상자수 & lon & lat\\\\\n",
       "\\hline\n",
       "\t 강남구   & 2015     & 12       & 374      & 2        & 520      & 127.0475 & 37.51731\\\\\n",
       "\t 강동구   & 2015     & 12       & 116      & 2        & 159      & 127.1238 & 37.53013\\\\\n",
       "\t 강북구   & 2015     & 12       & 116      & 1        & 152      & 127.0255 & 37.63975\\\\\n",
       "\t 관악구   & 2015     & 12       & 138      & 1        & 184      & 127.9515 & 37.47834\\\\\n",
       "\t 구로구   & 2015     & 12       & 108      & 1        & 137      & 126.8875 & 37.49547\\\\\n",
       "\t 도봉구   & 2015     & 12       &  87      & 1        & 123      & 127.0478 & 37.66873\\\\\n",
       "\t 동대문구 & 2015     & 12       & 111      & 0        & 265      & 127.0396 & 37.57452\\\\\n",
       "\\end{tabular}\n"
      ],
      "text/markdown": [
       "\n",
       "자치구명 | 연도 | 월 | 발생건수 | 사망자수 | 부상자수 | lon | lat | \n",
       "|---|---|---|---|---|---|---|\n",
       "| 강남구   | 2015     | 12       | 374      | 2        | 520      | 127.0475 | 37.51731 | \n",
       "| 강동구   | 2015     | 12       | 116      | 2        | 159      | 127.1238 | 37.53013 | \n",
       "| 강북구   | 2015     | 12       | 116      | 1        | 152      | 127.0255 | 37.63975 | \n",
       "| 관악구   | 2015     | 12       | 138      | 1        | 184      | 127.9515 | 37.47834 | \n",
       "| 구로구   | 2015     | 12       | 108      | 1        | 137      | 126.8875 | 37.49547 | \n",
       "| 도봉구   | 2015     | 12       |  87      | 1        | 123      | 127.0478 | 37.66873 | \n",
       "| 동대문구 | 2015     | 12       | 111      | 0        | 265      | 127.0396 | 37.57452 | \n",
       "\n",
       "\n"
      ],
      "text/plain": [
       "  자치구명 연도 월 발생건수 사망자수 부상자수 lon      lat     \n",
       "1 강남구   2015 12 374      2        520      127.0475 37.51731\n",
       "2 강동구   2015 12 116      2        159      127.1238 37.53013\n",
       "3 강북구   2015 12 116      1        152      127.0255 37.63975\n",
       "4 관악구   2015 12 138      1        184      127.9515 37.47834\n",
       "5 구로구   2015 12 108      1        137      126.8875 37.49547\n",
       "6 도봉구   2015 12  87      1        123      127.0478 37.66873\n",
       "7 동대문구 2015 12 111      0        265      127.0396 37.57452"
      ]
     },
     "metadata": {},
     "output_type": "display_data"
    }
   ],
   "source": [
    "seoul_2015 = merge(traff2015, data, by.x=\"자치구명\", by.y=\"area\")\n",
    "seoul_2015"
   ]
  },
  {
   "cell_type": "markdown",
   "metadata": {},
   "source": [
    "### 서울시 지도 표현을 위한 패키지 설치 및 불러오기\n",
    " * R에서의 패키지 동적 패키지 : ggmap, RgoogleMaps\n",
    " * R에서의 정적 패키지 : maps, mapproj, maptools, mapplots"
   ]
  },
  {
   "cell_type": "code",
   "execution_count": 14,
   "metadata": {},
   "outputs": [
    {
     "name": "stderr",
     "output_type": "stream",
     "text": [
      "Installing package into 'C:/Users/WITHJS/Documents/R/win-library/3.4'\n",
      "(as 'lib' is unspecified)\n"
     ]
    },
    {
     "name": "stdout",
     "output_type": "stream",
     "text": [
      "package 'ggmap' successfully unpacked and MD5 sums checked\n",
      "\n",
      "The downloaded binary packages are in\n",
      "\tC:\\Users\\WITHJS\\AppData\\Local\\Temp\\RtmpU5EwrM\\downloaded_packages\n"
     ]
    },
    {
     "name": "stderr",
     "output_type": "stream",
     "text": [
      "Installing package into 'C:/Users/WITHJS/Documents/R/win-library/3.4'\n",
      "(as 'lib' is unspecified)\n"
     ]
    },
    {
     "name": "stdout",
     "output_type": "stream",
     "text": [
      "package 'maps' successfully unpacked and MD5 sums checked\n",
      "\n",
      "The downloaded binary packages are in\n",
      "\tC:\\Users\\WITHJS\\AppData\\Local\\Temp\\RtmpU5EwrM\\downloaded_packages\n"
     ]
    },
    {
     "name": "stderr",
     "output_type": "stream",
     "text": [
      "Installing package into 'C:/Users/WITHJS/Documents/R/win-library/3.4'\n",
      "(as 'lib' is unspecified)\n"
     ]
    },
    {
     "name": "stdout",
     "output_type": "stream",
     "text": [
      "package 'mapproj' successfully unpacked and MD5 sums checked\n",
      "\n",
      "The downloaded binary packages are in\n",
      "\tC:\\Users\\WITHJS\\AppData\\Local\\Temp\\RtmpU5EwrM\\downloaded_packages\n"
     ]
    }
   ],
   "source": [
    "install.packages(\"ggmap\")\n",
    "install.packages(\"maps\")\n",
    "install.packages(\"mapproj\")"
   ]
  },
  {
   "cell_type": "code",
   "execution_count": 15,
   "metadata": {},
   "outputs": [
    {
     "name": "stderr",
     "output_type": "stream",
     "text": [
      "Loading required package: ggplot2\n"
     ]
    }
   ],
   "source": [
    "library(ggmap)\n",
    "library(maps)\n",
    "library(mapproj)"
   ]
  },
  {
   "cell_type": "markdown",
   "metadata": {},
   "source": [
    "### ggmap 패키지\n",
    " * ggplot2 패키지의 지도 정보를 담고 있는 ggplot 객체\n",
    " * 지도 정보는 R의 행열 구조와 같다.\n",
    " * ggmap 객체는 행과 열의 크기가 1,280인 행렬 구조를 갖는 이미지 정보이다.\n",
    " * 1280 * 1280픽셀의 이미지 정보이다. \n",
    " \n",
    "### map 패키지 \n",
    " * 지리정보를 나타내는 여러 개의 맵 데이터베이스와 맵 데이터 베이스를 시각화하기 위해 사용되는 map 함수군으로 구성되어 있다.\n",
    "\n",
    "### mapproj 패키지\n",
    " * 지리정보의 시각화에서 투영 기능을 지원하는 패키지이다."
   ]
  },
  {
   "cell_type": "markdown",
   "metadata": {},
   "source": [
    "### 서울시 지도 호출 후, 출력하기\n",
    " * R의 ggmap 패키지에서 get_googlemap() 함수와 ggmap( ) 함수를 이용하여 서울시 지도 호출함."
   ]
  },
  {
   "cell_type": "code",
   "execution_count": 16,
   "metadata": {},
   "outputs": [
    {
     "name": "stderr",
     "output_type": "stream",
     "text": [
      "Warning message in download.file(url, destfile = tmp, quiet = !messaging, mode = \"wb\"):\n",
      "\"cannot open URL 'http://maps.googleapis.com/maps/api/staticmap?center=seoul&zoom=11&size=640x640&scale=2&maptype=terrain&sensor=false': HTTP status was '403 Forbidden'\""
     ]
    },
    {
     "ename": "ERROR",
     "evalue": "Error in download.file(url, destfile = tmp, quiet = !messaging, mode = \"wb\"): URL 'http://maps.googleapis.com/maps/api/staticmap?center=seoul&zoom=11&size=640x640&scale=2&maptype=terrain&sensor=false'를 열 수 없습니다\n",
     "output_type": "error",
     "traceback": [
      "Error in download.file(url, destfile = tmp, quiet = !messaging, mode = \"wb\"): URL 'http://maps.googleapis.com/maps/api/staticmap?center=seoul&zoom=11&size=640x640&scale=2&maptype=terrain&sensor=false'를 열 수 없습니다\nTraceback:\n",
      "1. get_googlemap(\"seoul\", zoom = 11)",
      "2. download.file(url, destfile = tmp, quiet = !messaging, mode = \"wb\")"
     ]
    }
   ],
   "source": [
    "seoulmap <- get_googlemap(\"seoul\", zoom=11)\n",
    "sp <- ggmap(seoulmap)\n",
    "print(sp)"
   ]
  },
  {
   "cell_type": "code",
   "execution_count": null,
   "metadata": {},
   "outputs": [],
   "source": []
  }
 ],
 "metadata": {
  "kernelspec": {
   "display_name": "R",
   "language": "R",
   "name": "ir"
  },
  "language_info": {
   "codemirror_mode": "r",
   "file_extension": ".r",
   "mimetype": "text/x-r-source",
   "name": "R",
   "pygments_lexer": "r",
   "version": "3.4.3"
  }
 },
 "nbformat": 4,
 "nbformat_minor": 2
}
